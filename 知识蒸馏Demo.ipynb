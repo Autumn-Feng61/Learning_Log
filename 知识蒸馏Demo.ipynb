{
 "cells": [
  {
   "cell_type": "code",
   "execution_count": 2,
   "id": "b65a897c-14c9-451a-8fea-32713205d961",
   "metadata": {
    "ExecutionIndicator": {
     "show": true
    },
    "execution": {
     "iopub.execute_input": "2025-06-08T07:23:44.935165Z",
     "iopub.status.busy": "2025-06-08T07:23:44.934891Z",
     "iopub.status.idle": "2025-06-08T07:23:48.941933Z",
     "shell.execute_reply": "2025-06-08T07:23:48.941488Z",
     "shell.execute_reply.started": "2025-06-08T07:23:44.935149Z"
    },
    "tags": []
   },
   "outputs": [],
   "source": [
    "import torch\n",
    "from torch import nn\n",
    "import torch.nn.functional as F\n",
    "import torchvision\n",
    "from torchvision import transforms\n",
    "from torch.utils.data import DataLoader\n",
    "from torchinfo import summary\n",
    "from tqdm import tqdm"
   ]
  },
  {
   "cell_type": "code",
   "execution_count": 3,
   "id": "4e5a6f63-56cf-4321-a9f5-f7aaed4fe2d7",
   "metadata": {
    "execution": {
     "iopub.execute_input": "2025-06-08T07:23:50.110331Z",
     "iopub.status.busy": "2025-06-08T07:23:50.110017Z",
     "iopub.status.idle": "2025-06-08T07:23:50.285402Z",
     "shell.execute_reply": "2025-06-08T07:23:50.285024Z",
     "shell.execute_reply.started": "2025-06-08T07:23:50.110314Z"
    },
    "tags": []
   },
   "outputs": [],
   "source": [
    "torch.manual_seed(0)\n",
    "device = torch.device(\"cuda\" if torch.cuda.is_available() else \"cpu\")"
   ]
  },
  {
   "cell_type": "code",
   "execution_count": 4,
   "id": "7a4d9209-3a7d-4695-b0e6-5f108af123e1",
   "metadata": {
    "execution": {
     "iopub.execute_input": "2025-06-08T07:23:51.147171Z",
     "iopub.status.busy": "2025-06-08T07:23:51.146908Z",
     "iopub.status.idle": "2025-06-08T07:23:51.149526Z",
     "shell.execute_reply": "2025-06-08T07:23:51.149043Z",
     "shell.execute_reply.started": "2025-06-08T07:23:51.147156Z"
    },
    "tags": []
   },
   "outputs": [],
   "source": [
    "# 使用cuDNN加速卷积运算\n",
    "torch.backends.cudnn.benchmark = True"
   ]
  },
  {
   "cell_type": "code",
   "execution_count": 5,
   "id": "2573749d-3258-43ac-85c2-bcdd8a3c07e1",
   "metadata": {
    "ExecutionIndicator": {
     "show": false
    },
    "execution": {
     "iopub.execute_input": "2025-06-08T07:23:52.082809Z",
     "iopub.status.busy": "2025-06-08T07:23:52.082579Z",
     "iopub.status.idle": "2025-06-08T07:23:52.218796Z",
     "shell.execute_reply": "2025-06-08T07:23:52.218394Z",
     "shell.execute_reply.started": "2025-06-08T07:23:52.082791Z"
    },
    "tags": []
   },
   "outputs": [],
   "source": [
    "# 载入训练集\n",
    "train_dataset = torchvision.datasets.MNIST(\n",
    "    root=\"dataset/\",\n",
    "    train=True,\n",
    "    transform=transforms.ToTensor(),\n",
    "    download=True\n",
    ")\n",
    "\n",
    "# 载入测试集\n",
    "test_dataset = torchvision.datasets.MNIST(\n",
    "    root=\"dataset/\",\n",
    "    train=False,\n",
    "    transform=transforms.ToTensor(),\n",
    "    download=True\n",
    ")\n",
    "\n",
    "# 生成dataloader\n",
    "train_loader = DataLoader(dataset=train_dataset, batch_size=32, shuffle=True)\n",
    "test_loader = DataLoader(dataset=test_dataset, batch_size=32, shuffle=False)"
   ]
  },
  {
   "cell_type": "code",
   "execution_count": 33,
   "id": "0391459e-fc83-4777-b32d-ebe938663a01",
   "metadata": {
    "execution": {
     "iopub.execute_input": "2025-06-08T09:50:10.210234Z",
     "iopub.status.busy": "2025-06-08T09:50:10.209935Z",
     "iopub.status.idle": "2025-06-08T09:50:10.212802Z",
     "shell.execute_reply": "2025-06-08T09:50:10.212415Z",
     "shell.execute_reply.started": "2025-06-08T09:50:10.210217Z"
    },
    "tags": []
   },
   "outputs": [
    {
     "name": "stdout",
     "output_type": "stream",
     "text": [
      "Dataset MNIST\n",
      "    Number of datapoints: 60000\n",
      "    Root location: dataset/\n",
      "    Split: Train\n",
      "    StandardTransform\n",
      "Transform: ToTensor()\n"
     ]
    }
   ],
   "source": [
    "print(train_dataset)"
   ]
  },
  {
   "cell_type": "code",
   "execution_count": 8,
   "id": "94a9cdcb-ef57-4ec0-954b-8101aa35541a",
   "metadata": {
    "ExecutionIndicator": {
     "show": true
    },
    "execution": {
     "iopub.execute_input": "2025-06-08T07:48:26.785166Z",
     "iopub.status.busy": "2025-06-08T07:48:26.784897Z",
     "iopub.status.idle": "2025-06-08T07:48:26.789293Z",
     "shell.execute_reply": "2025-06-08T07:48:26.788835Z",
     "shell.execute_reply.started": "2025-06-08T07:48:26.785147Z"
    },
    "tags": []
   },
   "outputs": [],
   "source": [
    "class TeacherModel(nn.Module):\n",
    "    def __init__(self,in_channels=1,num_classes=10):\n",
    "        super().__init__()\n",
    "        self.relu = nn.ReLU()\n",
    "        self.fc1 = nn.Linear(784,1024)\n",
    "        self.fc2 = nn.Linear(1024,1024)\n",
    "        self.fc3 = nn.Linear(1024,num_classes)\n",
    "        self.dropout = nn.Dropout(p=0.5)\n",
    "\n",
    "    def forward(self, x):\n",
    "        x = x.view(-1,784)\n",
    "        x = self.fc1(x)\n",
    "        x = self.dropout(x)\n",
    "        x = self.relu(x)\n",
    "        \n",
    "        x = self.fc2(x)\n",
    "        x = self.dropout(x)\n",
    "        x = self.relu(x)\n",
    "        \n",
    "        x = self.fc3(x)\n",
    "        \n",
    "        return x"
   ]
  },
  {
   "cell_type": "code",
   "execution_count": 9,
   "id": "6ee40ae5-5771-4e8a-bff7-8a012531bf99",
   "metadata": {
    "execution": {
     "iopub.execute_input": "2025-06-08T07:48:27.999420Z",
     "iopub.status.busy": "2025-06-08T07:48:27.999200Z",
     "iopub.status.idle": "2025-06-08T07:48:28.188691Z",
     "shell.execute_reply": "2025-06-08T07:48:28.188300Z",
     "shell.execute_reply.started": "2025-06-08T07:48:27.999404Z"
    },
    "tags": []
   },
   "outputs": [],
   "source": [
    "model = TeacherModel()\n",
    "model = model.to(device)"
   ]
  },
  {
   "cell_type": "code",
   "execution_count": 10,
   "id": "89bba16f-56b7-46c5-8fbb-7c427d7fef25",
   "metadata": {
    "execution": {
     "iopub.execute_input": "2025-06-08T07:49:50.453610Z",
     "iopub.status.busy": "2025-06-08T07:49:50.453351Z",
     "iopub.status.idle": "2025-06-08T07:49:50.458663Z",
     "shell.execute_reply": "2025-06-08T07:49:50.458258Z",
     "shell.execute_reply.started": "2025-06-08T07:49:50.453594Z"
    },
    "tags": []
   },
   "outputs": [
    {
     "data": {
      "text/plain": [
       "=================================================================\n",
       "Layer (type:depth-idx)                   Param #\n",
       "=================================================================\n",
       "TeacherModel                             --\n",
       "├─ReLU: 1-1                              --\n",
       "├─Linear: 1-2                            803,840\n",
       "├─Linear: 1-3                            1,049,600\n",
       "├─Linear: 1-4                            10,250\n",
       "├─Dropout: 1-5                           --\n",
       "=================================================================\n",
       "Total params: 1,863,690\n",
       "Trainable params: 1,863,690\n",
       "Non-trainable params: 0\n",
       "================================================================="
      ]
     },
     "execution_count": 10,
     "metadata": {},
     "output_type": "execute_result"
    }
   ],
   "source": [
    "summary(model)"
   ]
  },
  {
   "cell_type": "code",
   "execution_count": 11,
   "id": "19834cb3-d57f-4560-9d29-7100d5436dca",
   "metadata": {
    "execution": {
     "iopub.execute_input": "2025-06-08T08:27:13.033048Z",
     "iopub.status.busy": "2025-06-08T08:27:13.032763Z",
     "iopub.status.idle": "2025-06-08T08:27:13.035964Z",
     "shell.execute_reply": "2025-06-08T08:27:13.035541Z",
     "shell.execute_reply.started": "2025-06-08T08:27:13.033031Z"
    },
    "tags": []
   },
   "outputs": [],
   "source": [
    "criterion = nn.CrossEntropyLoss()\n",
    "optimizer = torch.optim.Adam(model.parameters(),lr = 1e-4)"
   ]
  },
  {
   "cell_type": "code",
   "execution_count": 13,
   "id": "3ea0fb22-8016-4abd-9dac-e5db5902c29f",
   "metadata": {
    "ExecutionIndicator": {
     "show": true
    },
    "execution": {
     "iopub.execute_input": "2025-06-08T08:42:01.700695Z",
     "iopub.status.busy": "2025-06-08T08:42:01.700426Z",
     "iopub.status.idle": "2025-06-08T08:42:36.937339Z",
     "shell.execute_reply": "2025-06-08T08:42:36.936955Z",
     "shell.execute_reply.started": "2025-06-08T08:42:01.700680Z"
    },
    "tags": []
   },
   "outputs": [
    {
     "name": "stderr",
     "output_type": "stream",
     "text": [
      "100%|██████████| 1875/1875 [00:05<00:00, 348.01it/s]\n"
     ]
    },
    {
     "name": "stdout",
     "output_type": "stream",
     "text": [
      "Epoch:1\t Accuracy:0.9386\n"
     ]
    },
    {
     "name": "stderr",
     "output_type": "stream",
     "text": [
      "100%|██████████| 1875/1875 [00:05<00:00, 362.72it/s]\n"
     ]
    },
    {
     "name": "stdout",
     "output_type": "stream",
     "text": [
      "Epoch:2\t Accuracy:0.9616\n"
     ]
    },
    {
     "name": "stderr",
     "output_type": "stream",
     "text": [
      "100%|██████████| 1875/1875 [00:05<00:00, 364.28it/s]\n"
     ]
    },
    {
     "name": "stdout",
     "output_type": "stream",
     "text": [
      "Epoch:3\t Accuracy:0.9682\n"
     ]
    },
    {
     "name": "stderr",
     "output_type": "stream",
     "text": [
      "100%|██████████| 1875/1875 [00:05<00:00, 358.76it/s]\n"
     ]
    },
    {
     "name": "stdout",
     "output_type": "stream",
     "text": [
      "Epoch:4\t Accuracy:0.9731\n"
     ]
    },
    {
     "name": "stderr",
     "output_type": "stream",
     "text": [
      "100%|██████████| 1875/1875 [00:05<00:00, 363.01it/s]\n"
     ]
    },
    {
     "name": "stdout",
     "output_type": "stream",
     "text": [
      "Epoch:5\t Accuracy:0.9747\n"
     ]
    },
    {
     "name": "stderr",
     "output_type": "stream",
     "text": [
      "100%|██████████| 1875/1875 [00:05<00:00, 359.78it/s]\n"
     ]
    },
    {
     "name": "stdout",
     "output_type": "stream",
     "text": [
      "Epoch:6\t Accuracy:0.9783\n"
     ]
    }
   ],
   "source": [
    "epochs = 6\n",
    "for epoch in range(epochs):\n",
    "    model.train()\n",
    "    \n",
    "    for data,targets in tqdm(train_loader):\n",
    "        data = data.to(device)\n",
    "        targets = targets.to(device)\n",
    "        \n",
    "        preds = model(data)\n",
    "        loss = criterion(preds,targets)\n",
    "        \n",
    "        optimizer.zero_grad()\n",
    "        loss.backward()\n",
    "        optimizer.step()\n",
    "        \n",
    "    model.eval()\n",
    "    num_correct = 0\n",
    "    num_samples = 0\n",
    "    \n",
    "    with torch.no_grad():\n",
    "        for x,y in test_loader:\n",
    "            x = x.to(device)\n",
    "            y = y.to(device)\n",
    "            \n",
    "            preds = model(x)\n",
    "            predictions = preds.max(1).indices\n",
    "            num_correct += (predictions == y).sum()\n",
    "            num_samples += predictions.size(0)\n",
    "        acc = (num_correct/num_samples).item()\n",
    "    \n",
    "    model.train()\n",
    "    print('Epoch:{}\\t Accuracy:{:.4f}'.format(epoch + 1, acc))"
   ]
  },
  {
   "cell_type": "code",
   "execution_count": 14,
   "id": "bc77981a-a740-4e43-bc0b-5c3cfc04273e",
   "metadata": {
    "execution": {
     "iopub.execute_input": "2025-06-08T08:43:08.397599Z",
     "iopub.status.busy": "2025-06-08T08:43:08.397326Z",
     "iopub.status.idle": "2025-06-08T08:43:08.399801Z",
     "shell.execute_reply": "2025-06-08T08:43:08.399415Z",
     "shell.execute_reply.started": "2025-06-08T08:43:08.397581Z"
    },
    "tags": []
   },
   "outputs": [],
   "source": [
    "teacher_model = model"
   ]
  },
  {
   "cell_type": "code",
   "execution_count": 19,
   "id": "41738b21-274a-48f4-9a92-81a189520600",
   "metadata": {
    "ExecutionIndicator": {
     "show": true
    },
    "execution": {
     "iopub.execute_input": "2025-06-08T09:05:38.481280Z",
     "iopub.status.busy": "2025-06-08T09:05:38.481011Z",
     "iopub.status.idle": "2025-06-08T09:05:38.484999Z",
     "shell.execute_reply": "2025-06-08T09:05:38.484587Z",
     "shell.execute_reply.started": "2025-06-08T09:05:38.481264Z"
    },
    "tags": []
   },
   "outputs": [],
   "source": [
    "class StudentModel(nn.Module):\n",
    "    def __init__(self,in_channels = 1,num_classes = 10):\n",
    "        super().__init__()\n",
    "        self.relu = nn.ReLU()\n",
    "        self.fc1 = nn.Linear(784,32)\n",
    "        self.fc2 = nn.Linear(32,32)\n",
    "        self.fc3 = nn.Linear(32,num_classes)\n",
    "\n",
    "    def forward(self,x):\n",
    "        x = x.view(-1,784)\n",
    "        \n",
    "        x = self.fc1(x)\n",
    "        x = self.relu(x)\n",
    "        \n",
    "        x = self.fc2(x)\n",
    "        x = self.relu(x)\n",
    "        \n",
    "        x = self.fc3(x)\n",
    "        return x"
   ]
  },
  {
   "cell_type": "code",
   "execution_count": 20,
   "id": "0b1bf381-27e7-4437-ba77-30ae1b5006b6",
   "metadata": {
    "execution": {
     "iopub.execute_input": "2025-06-08T09:05:42.502277Z",
     "iopub.status.busy": "2025-06-08T09:05:42.502020Z",
     "iopub.status.idle": "2025-06-08T09:05:42.505483Z",
     "shell.execute_reply": "2025-06-08T09:05:42.505080Z",
     "shell.execute_reply.started": "2025-06-08T09:05:42.502262Z"
    },
    "tags": []
   },
   "outputs": [],
   "source": [
    "model = StudentModel()\n",
    "model = model.to(device)"
   ]
  },
  {
   "cell_type": "code",
   "execution_count": 21,
   "id": "18ec5eae-a40d-41c7-9851-4529646dffd4",
   "metadata": {
    "execution": {
     "iopub.execute_input": "2025-06-08T09:05:43.850885Z",
     "iopub.status.busy": "2025-06-08T09:05:43.850632Z",
     "iopub.status.idle": "2025-06-08T09:05:43.853547Z",
     "shell.execute_reply": "2025-06-08T09:05:43.853107Z",
     "shell.execute_reply.started": "2025-06-08T09:05:43.850870Z"
    },
    "tags": []
   },
   "outputs": [],
   "source": [
    "criterion = nn.CrossEntropyLoss()\n",
    "optimizer = torch.optim.Adam(model.parameters(),lr = 1e-4)"
   ]
  },
  {
   "cell_type": "code",
   "execution_count": 22,
   "id": "e819f387-a30e-4d45-8b77-d74db8a87aba",
   "metadata": {
    "execution": {
     "iopub.execute_input": "2025-06-08T09:05:44.836660Z",
     "iopub.status.busy": "2025-06-08T09:05:44.836411Z",
     "iopub.status.idle": "2025-06-08T09:06:01.849708Z",
     "shell.execute_reply": "2025-06-08T09:06:01.849328Z",
     "shell.execute_reply.started": "2025-06-08T09:05:44.836645Z"
    },
    "tags": []
   },
   "outputs": [
    {
     "name": "stderr",
     "output_type": "stream",
     "text": [
      "100%|██████████| 1875/1875 [00:05<00:00, 372.31it/s]\n"
     ]
    },
    {
     "name": "stdout",
     "output_type": "stream",
     "text": [
      "Epoch:1\t Accuracy:0.8832\n"
     ]
    },
    {
     "name": "stderr",
     "output_type": "stream",
     "text": [
      "100%|██████████| 1875/1875 [00:05<00:00, 370.94it/s]\n"
     ]
    },
    {
     "name": "stdout",
     "output_type": "stream",
     "text": [
      "Epoch:2\t Accuracy:0.9067\n"
     ]
    },
    {
     "name": "stderr",
     "output_type": "stream",
     "text": [
      "100%|██████████| 1875/1875 [00:05<00:00, 372.76it/s]\n"
     ]
    },
    {
     "name": "stdout",
     "output_type": "stream",
     "text": [
      "Epoch:3\t Accuracy:0.9148\n"
     ]
    }
   ],
   "source": [
    "epochs = 3\n",
    "for epoch in range(epochs):\n",
    "    model.train()\n",
    "    \n",
    "    for data,targets in tqdm(train_loader):\n",
    "        data = data.to(device)\n",
    "        targets = targets.to(device)\n",
    "        \n",
    "        preds = model(data)\n",
    "        loss = criterion(preds,targets)\n",
    "        \n",
    "        optimizer.zero_grad()\n",
    "        loss.backward()\n",
    "        optimizer.step()\n",
    "        \n",
    "    model.eval()\n",
    "    num_correct = 0\n",
    "    num_samples = 0\n",
    "    \n",
    "    with torch.no_grad():\n",
    "        for x,y in test_loader:\n",
    "            x = x.to(device)\n",
    "            y = y.to(device)\n",
    "            \n",
    "            preds = model(x)\n",
    "            predictions = preds.max(1).indices\n",
    "            num_correct += (predictions == y).sum()\n",
    "            num_samples += predictions.size(0)\n",
    "        acc = (num_correct/num_samples).item()\n",
    "    \n",
    "    model.train()\n",
    "    print('Epoch:{}\\t Accuracy:{:.4f}'.format(epoch + 1, acc))"
   ]
  },
  {
   "cell_type": "code",
   "execution_count": 24,
   "id": "74396361-0320-4359-9af8-66a2ad3b9faf",
   "metadata": {
    "ExecutionIndicator": {
     "show": true
    },
    "execution": {
     "iopub.execute_input": "2025-06-08T09:33:31.335351Z",
     "iopub.status.busy": "2025-06-08T09:33:31.335086Z",
     "iopub.status.idle": "2025-06-08T09:33:31.337639Z",
     "shell.execute_reply": "2025-06-08T09:33:31.337199Z",
     "shell.execute_reply.started": "2025-06-08T09:33:31.335336Z"
    },
    "tags": []
   },
   "outputs": [],
   "source": [
    "student_model_scratch = model"
   ]
  },
  {
   "cell_type": "markdown",
   "id": "05c78135-27cb-4f55-ab96-8b26fa1913d0",
   "metadata": {},
   "source": [
    "# 知识蒸馏训练学生模型"
   ]
  },
  {
   "cell_type": "code",
   "execution_count": 30,
   "id": "399dd3d3-6219-4a64-8232-560e997a5aa6",
   "metadata": {
    "ExecutionIndicator": {
     "show": false
    },
    "execution": {
     "iopub.execute_input": "2025-06-08T09:48:30.667158Z",
     "iopub.status.busy": "2025-06-08T09:48:30.666775Z",
     "iopub.status.idle": "2025-06-08T09:48:30.670338Z",
     "shell.execute_reply": "2025-06-08T09:48:30.669973Z",
     "shell.execute_reply.started": "2025-06-08T09:48:30.667140Z"
    },
    "tags": []
   },
   "outputs": [],
   "source": [
    "teacher_model.eval()\n",
    "\n",
    "model = StudentModel()\n",
    "model = model.to(device)\n",
    "model.train()\n",
    "\n",
    "Temp = 3 # 超参数之一"
   ]
  },
  {
   "cell_type": "code",
   "execution_count": 36,
   "id": "0001e016-3f61-472c-92cc-bb3dad2538f9",
   "metadata": {
    "ExecutionIndicator": {
     "show": false
    },
    "execution": {
     "iopub.execute_input": "2025-06-08T09:51:07.741537Z",
     "iopub.status.busy": "2025-06-08T09:51:07.741288Z",
     "iopub.status.idle": "2025-06-08T09:51:07.744599Z",
     "shell.execute_reply": "2025-06-08T09:51:07.744093Z",
     "shell.execute_reply.started": "2025-06-08T09:51:07.741522Z"
    },
    "tags": []
   },
   "outputs": [],
   "source": [
    "hard_loss = nn.CrossEntropyLoss()\n",
    "alpha = 0.3 # 超参数之一\n",
    "\n",
    "soft_loss = nn.KLDivLoss(reduction=\"batchmean\")\n",
    "\n",
    "optimizer = torch.optim.Adam(model.parameters(),lr = 1e-4)"
   ]
  },
  {
   "cell_type": "code",
   "execution_count": 37,
   "id": "86f32aa0-2185-4c15-b3a5-8dd361be4208",
   "metadata": {
    "execution": {
     "iopub.execute_input": "2025-06-08T09:51:10.605261Z",
     "iopub.status.busy": "2025-06-08T09:51:10.604993Z",
     "iopub.status.idle": "2025-06-08T09:51:29.761324Z",
     "shell.execute_reply": "2025-06-08T09:51:29.760950Z",
     "shell.execute_reply.started": "2025-06-08T09:51:10.605245Z"
    },
    "tags": []
   },
   "outputs": [
    {
     "name": "stderr",
     "output_type": "stream",
     "text": [
      "100%|██████████| 1875/1875 [00:05<00:00, 325.35it/s]\n"
     ]
    },
    {
     "name": "stdout",
     "output_type": "stream",
     "text": [
      "Epoch:1\t Accuracy:0.9237\n"
     ]
    },
    {
     "name": "stderr",
     "output_type": "stream",
     "text": [
      "100%|██████████| 1875/1875 [00:05<00:00, 324.93it/s]\n"
     ]
    },
    {
     "name": "stdout",
     "output_type": "stream",
     "text": [
      "Epoch:2\t Accuracy:0.9274\n"
     ]
    },
    {
     "name": "stderr",
     "output_type": "stream",
     "text": [
      "100%|██████████| 1875/1875 [00:05<00:00, 327.66it/s]\n"
     ]
    },
    {
     "name": "stdout",
     "output_type": "stream",
     "text": [
      "Epoch:3\t Accuracy:0.9295\n"
     ]
    }
   ],
   "source": [
    "epochs = 3\n",
    "for epoch in range(epochs):\n",
    "    \n",
    "    for data,targets in tqdm(train_loader):\n",
    "        data = data.to(device)\n",
    "        targets = targets.to(device)\n",
    "        \n",
    "        with torch.no_grad():\n",
    "            teacher_preds = teacher_model(data)\n",
    "            \n",
    "        student_preds = model(data)\n",
    "        \n",
    "        loss = alpha * (Temp * Temp) * soft_loss(F.softmax(student_preds / Temp,dim = 1),F.softmax(teacher_preds / Temp,dim = 1)) +(1-alpha)* hard_loss(student_preds,targets)\n",
    "        \n",
    "        optimizer.zero_grad()\n",
    "        loss.backward()\n",
    "        optimizer.step()\n",
    "        \n",
    "    model.eval()\n",
    "    num_correct = 0\n",
    "    num_samples = 0\n",
    "    \n",
    "    with torch.no_grad():\n",
    "        for x,y in test_loader:\n",
    "            x = x.to(device)\n",
    "            y = y.to(device)\n",
    "            \n",
    "            preds = model(x)\n",
    "            predictions = preds.max(1).indices\n",
    "            num_correct += (predictions == y).sum()\n",
    "            num_samples += predictions.size(0)\n",
    "        acc = (num_correct/num_samples).item()\n",
    "    \n",
    "    model.train()\n",
    "    print('Epoch:{}\\t Accuracy:{:.4f}'.format(epoch + 1, acc))"
   ]
  }
 ],
 "metadata": {
  "kernelspec": {
   "display_name": "Python 3 (ipykernel)",
   "language": "python",
   "name": "python3"
  },
  "language_info": {
   "codemirror_mode": {
    "name": "ipython",
    "version": 3
   },
   "file_extension": ".py",
   "mimetype": "text/x-python",
   "name": "python",
   "nbconvert_exporter": "python",
   "pygments_lexer": "ipython3",
   "version": "3.11.11"
  }
 },
 "nbformat": 4,
 "nbformat_minor": 5
}
